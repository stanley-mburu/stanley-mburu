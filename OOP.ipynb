{
 "cells": [
  {
   "cell_type": "code",
   "execution_count": 7,
   "id": "ca2bb9fb-ed83-4f13-b4ed-b1efd6627560",
   "metadata": {},
   "outputs": [
    {
     "data": {
      "text/plain": [
       "7000"
      ]
     },
     "execution_count": 7,
     "metadata": {},
     "output_type": "execute_result"
    }
   ],
   "source": [
    "class Employee:\n",
    "    empCount=0\n",
    "\n",
    "    def __init__(self,name,salary):\n",
    "        self.name=name\n",
    "        self.salary=salary\n",
    "        Employee.empCount+=1\n",
    "\n",
    "    def displayCount(self):\n",
    "        print(\"Total Employee %d\" % Employee.empCount)\n",
    "\n",
    "    def displayEmployee(self):\n",
    "        print(\"Name:\",self.name,\",Salary:\",self.salary)\n",
    "        \n",
    "\n",
    "emp1=Employee(\"Zara\",2000)\n",
    "emp2=Employee(\"Sarah\",3560)\n",
    "emp3=Employee(\"Mercy\",)\n",
    "\n",
    "setattr(emp1,'salary',7000)\n",
    "getattr(emp1,'salary')\n",
    "#hasattr(emp2,'name')\n",
    "\n",
    "\n"
   ]
  },
  {
   "cell_type": "code",
   "execution_count": 13,
   "id": "be876f59-0ee1-4799-961e-3a6d91a754e5",
   "metadata": {},
   "outputs": [
    {
     "name": "stdout",
     "output_type": "stream",
     "text": [
      "('cooking oil', '5 jerricans')\n",
      "['rice', 'rice', 'rice', 'rice']\n"
     ]
    }
   ],
   "source": [
    "class shop:\n",
    "    item=[]\n",
    "    def __init__(self,stock,amount):\n",
    "        self.stock=stock\n",
    "        self.amount=amount\n",
    "        \n",
    "\n",
    "    def get_stock(self):\n",
    "        return self.stock,self.amount\n",
    "    def get_items(self):\n",
    "        for i in self.stock:\n",
    "            shop.item.append(self.stock)\n",
    "        return shop.item\n",
    "c=shop('sugar','20 kgs')\n",
    "d=shop('cooking oil','5 jerricans')\n",
    "e=shop('rice','4 bags')\n",
    "\n",
    "print(d.get_stock())\n",
    "print(e.get_items())\n",
    "\n"
   ]
  },
  {
   "cell_type": "code",
   "execution_count": 12,
   "id": "b235ae9f-e86f-446c-9cbe-5d53ca8f6062",
   "metadata": {},
   "outputs": [
    {
     "name": "stdin",
     "output_type": "stream",
     "text": [
      "Enter 3 possible values : 1 2 3\n"
     ]
    },
    {
     "name": "stdout",
     "output_type": "stream",
     "text": [
      "a: 1\n",
      "<class 'int'>\n"
     ]
    }
   ],
   "source": [
    "values = input(\"Enter 3 possible values :\").split()\n",
    "a,b,c = map(int, values)\n",
    "print(\"a:\",a,)\n",
    "print(type(a))"
   ]
  },
  {
   "cell_type": "code",
   "execution_count": 6,
   "id": "40a57553-38f3-484d-a996-013ff2da5cbf",
   "metadata": {},
   "outputs": [
    {
     "name": "stdout",
     "output_type": "stream",
     "text": [
      "muthokiNjuge\n"
     ]
    }
   ],
   "source": [
    "class dog:\n",
    "    def __init__(self,name):\n",
    "        self.name=name\n",
    "\n",
    "    def get_name(self):\n",
    "        return self.name + \"Njuge\"\n",
    "\n",
    "d=dog('muthoki')\n",
    "print(d.get_name())\n",
    "\n",
    "        "
   ]
  },
  {
   "cell_type": "code",
   "execution_count": 22,
   "id": "4744f0e3-dbc7-4f75-9e2e-0478413b4924",
   "metadata": {},
   "outputs": [
    {
     "name": "stdout",
     "output_type": "stream",
     "text": [
      "False\n",
      "Mary\n",
      "70.2\n"
     ]
    }
   ],
   "source": [
    "class Student:\n",
    "    def __init__(self,name,age,grade):\n",
    "        self.name=name\n",
    "        self.age=age\n",
    "        self.grade=grade\n",
    "\n",
    "    def get_grade(self):\n",
    "        return self.grade\n",
    "       \n",
    "class Course:\n",
    "    def __init__(self,name,max_students):\n",
    "        self.name=name\n",
    "        self.max_students=max_students\n",
    "        self.students=[]\n",
    "        \n",
    "    def add_student(self,student):\n",
    "        if len(self.students)<self.max_students:\n",
    "            self.students.append(student)\n",
    "            return True\n",
    "        return False\n",
    "\n",
    "    def get_average_grade(self):\n",
    "        value=0\n",
    "        for student in self.students:\n",
    "            value+=student.get_grade()\n",
    "        return value/len(self.students)\n",
    "        \n",
    "            \n",
    "s1=Student('Sarah',19,67)\n",
    "s2=Student('Anthony',20,56)\n",
    "s3=Student('Mary',18,78)\n",
    "s4=Student('Jacqueline',21,80)\n",
    "s5=Student('Eric',21,70)\n",
    "s6=Student('Lucy',17,54)\n",
    "#print(s2.get_grade())\n",
    "\n",
    "course=Course('Maths_A',5)\n",
    "course.add_student(s1)\n",
    "course.add_student(s2)\n",
    "course.add_student(s3)\n",
    "course.add_student(s4)\n",
    "course.add_student(s5)\n",
    "print(course.add_student(s6))\n",
    "print(course.students[2].name)\n",
    "print(course.get_average_grade())\n",
    "\n",
    "\n",
    "    "
   ]
  },
  {
   "cell_type": "code",
   "execution_count": 13,
   "id": "eceabec7-8336-4049-a24e-028d58064994",
   "metadata": {},
   "outputs": [
    {
     "name": "stdout",
     "output_type": "stream",
     "text": [
      "I am Mercy and I am 12 years old\n",
      "None\n",
      "I am Carol and I am 11 years old and I am orange\n",
      "None\n",
      "I am dan and I am 15 years old\n",
      "None\n",
      "meaow\n",
      "bark\n",
      "I dont know what to say\n"
     ]
    }
   ],
   "source": [
    "#inheritance\n",
    "class pet:\n",
    "    def __init__(self,name,age):\n",
    "        self.name=name\n",
    "        self.age=age\n",
    "\n",
    "    def show(self):\n",
    "        print(f\"I am {self.name} and I am {self.age} years old\")\n",
    "\n",
    "    def speak(self):\n",
    "        print('I dont know what to say')\n",
    "\n",
    "\n",
    "class cat(pet):\n",
    "    def __init__(self,name,age,color):\n",
    "        super().__init__(name,age)\n",
    "        self.color=color\n",
    "        \n",
    "    def speak(self):\n",
    "        print('meaow')\n",
    "\n",
    "    def show(self):\n",
    "        print(f'I am {self.name} and I am {self.age} years old and I am {self.color}')\n",
    "\n",
    "class dog(pet):\n",
    "    def speak(self):\n",
    "        print('bark')\n",
    "\n",
    "class fish(pet):\n",
    "    pass\n",
    "\n",
    "\n",
    "p=pet('Mercy',12)\n",
    "print(p.show())\n",
    "c=cat('Carol',11,'orange')\n",
    "print(c.show())\n",
    "d=dog('dan',15)\n",
    "print(d.show())\n",
    "c=cat('carol',11,'orange')\n",
    "c.speak()\n",
    "d=dog('dan',15)\n",
    "d.speak()\n",
    "f=fish('farlie',3)\n",
    "f.speak()\n"
   ]
  },
  {
   "cell_type": "code",
   "execution_count": 23,
   "id": "214f2f1f-d10a-461d-8f5f-f60db9e95dcf",
   "metadata": {},
   "outputs": [
    {
     "name": "stdout",
     "output_type": "stream",
     "text": [
      "None\n"
     ]
    }
   ],
   "source": [
    "\n",
    "#a=2\n",
    "def increment(a):\n",
    "    a+=1\n",
    "   \n",
    "\n",
    "print(increment(2))"
   ]
  },
  {
   "cell_type": "code",
   "execution_count": 31,
   "id": "98202186-fe69-48e9-9a10-86130e7c47ee",
   "metadata": {},
   "outputs": [
    {
     "name": "stdout",
     "output_type": "stream",
     "text": [
      "g i r l\n",
      "1 0 2 4\n"
     ]
    }
   ],
   "source": [
    "str = 'girl'\n",
    "print(*str)\n",
    "int= (1,0,2,4)\n",
    "a,b,c,d = int\n",
    "print(a,b,c,d)"
   ]
  },
  {
   "cell_type": "code",
   "execution_count": 35,
   "id": "64628c42-df17-43e4-b6b2-b4e02517f4da",
   "metadata": {},
   "outputs": [
    {
     "name": "stdout",
     "output_type": "stream",
     "text": [
      "1 2\n",
      "[3, 4, 5]\n"
     ]
    }
   ],
   "source": [
    "numbers =[1,2,3,4,5]\n",
    "a,b,*rest = numbers\n",
    "print(a,b)\n",
    "print(rest)"
   ]
  },
  {
   "cell_type": "code",
   "execution_count": 36,
   "id": "526c00f5-fe8d-4299-8303-c6de9d5cd652",
   "metadata": {},
   "outputs": [
    {
     "name": "stdout",
     "output_type": "stream",
     "text": [
      "(1, 2, 3)\n"
     ]
    }
   ],
   "source": [
    "def my_function(*args):\n",
    "    print(args)\n",
    "\n",
    "my_function(1,2,3)"
   ]
  },
  {
   "cell_type": "code",
   "execution_count": 38,
   "id": "b8b81cfb-5e37-43b9-ae1e-4c40fe8b95ea",
   "metadata": {},
   "outputs": [
    {
     "name": "stdout",
     "output_type": "stream",
     "text": [
      "{'a': 1, 'b': 2, 'c': 3}\n"
     ]
    }
   ],
   "source": [
    "def my_functional(**kwargs):\n",
    "    print(kwargs)\n",
    "\n",
    "my_functional(a=1,b=2,c=3)\n"
   ]
  },
  {
   "cell_type": "code",
   "execution_count": 40,
   "id": "fa9ce06e-bd16-482a-9aa5-1b14bbd64296",
   "metadata": {},
   "outputs": [
    {
     "name": "stdout",
     "output_type": "stream",
     "text": [
      "78\n",
      "2\n"
     ]
    }
   ],
   "source": [
    "print(max([56,34,23,78,2]))\n",
    "print(min([56,34,23,78,2]))\n"
   ]
  },
  {
   "cell_type": "code",
   "execution_count": 42,
   "id": "33b63ce8-5ecd-4a84-a72b-17ee2dae9247",
   "metadata": {},
   "outputs": [
    {
     "name": "stdout",
     "output_type": "stream",
     "text": [
      "<generator object <genexpr> at 0x000001BC86ED85F0>\n"
     ]
    }
   ],
   "source": [
    "wat=[56,34,23,78,2]\n",
    "print(x**2 for x in wat)"
   ]
  },
  {
   "cell_type": "code",
   "execution_count": 51,
   "id": "60668f7c-68a9-46d3-9b5e-d8401f234846",
   "metadata": {},
   "outputs": [
    {
     "name": "stdout",
     "output_type": "stream",
     "text": [
      "[56, 34, 78, 2]\n"
     ]
    }
   ],
   "source": [
    "print(list(filter(lambda x: x%2==0,wat)))\n"
   ]
  },
  {
   "cell_type": "code",
   "execution_count": 57,
   "id": "97dabec9-150f-424b-af70-960418c7d660",
   "metadata": {},
   "outputs": [
    {
     "data": {
      "text/plain": [
       "[3136, 1156, 529, 6084, 4]"
      ]
     },
     "execution_count": 57,
     "metadata": {},
     "output_type": "execute_result"
    }
   ],
   "source": [
    "squared=list(map(lambda x: x**2,wat))\n",
    "squared"
   ]
  },
  {
   "cell_type": "code",
   "execution_count": 68,
   "id": "62c5cbdd-2785-4037-a854-156c07033390",
   "metadata": {},
   "outputs": [
    {
     "name": "stdout",
     "output_type": "stream",
     "text": [
      "6088\n"
     ]
    }
   ],
   "source": [
    "all(squared)\n",
    "print(sum(squared[-2:]))"
   ]
  },
  {
   "cell_type": "code",
   "execution_count": 65,
   "id": "3ab667a1-6ce4-45ce-ba8f-435abe37364f",
   "metadata": {},
   "outputs": [
    {
     "data": {
      "text/plain": [
       "False"
      ]
     },
     "execution_count": 65,
     "metadata": {},
     "output_type": "execute_result"
    }
   ],
   "source": [
    " any([-0,0,0,0])"
   ]
  },
  {
   "cell_type": "code",
   "execution_count": null,
   "id": "6943d74c-b28b-4ced-b64b-4b4d1102ec04",
   "metadata": {},
   "outputs": [],
   "source": []
  }
 ],
 "metadata": {
  "kernelspec": {
   "display_name": "Python 3 (ipykernel)",
   "language": "python",
   "name": "python3"
  },
  "language_info": {
   "codemirror_mode": {
    "name": "ipython",
    "version": 3
   },
   "file_extension": ".py",
   "mimetype": "text/x-python",
   "name": "python",
   "nbconvert_exporter": "python",
   "pygments_lexer": "ipython3",
   "version": "3.12.0"
  }
 },
 "nbformat": 4,
 "nbformat_minor": 5
}
