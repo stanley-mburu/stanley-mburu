{
 "cells": [
  {
   "cell_type": "code",
   "execution_count": 2,
   "id": "2752e906-ee5b-4ef4-9635-350c4c15692a",
   "metadata": {},
   "outputs": [],
   "source": [
    "# Python Object Oriented Programming\n",
    "# Using the __str__ and __repr__ magic methods\n",
    "\n",
    "\n",
    "class Book:\n",
    "    def __init__(self, title, author, price):\n",
    "        super().__init__()\n",
    "        self.title = title\n",
    "        self.author = author\n",
    "        self.price = price\n",
    "        self._discount = 0.1\n"
   ]
  },
  {
   "cell_type": "code",
   "execution_count": 6,
   "id": "64d86635-79b0-4a4c-83af-66012fa732df",
   "metadata": {},
   "outputs": [],
   "source": [
    "# The __str__ function is used to return a user-friendly string\n",
    "# represention of the object\n",
    "def __str__(self):\n",
    "    return f\"{self.title} by {self.author}, costs {self.price}\"\n"
   ]
  },
  {
   "cell_type": "code",
   "execution_count": 8,
   "id": "0904252b-787b-4fb2-b35f-4bcf8cf3625f",
   "metadata": {},
   "outputs": [],
   "source": [
    "# Called when an attribute is retrieved. Be aware that you can't \n",
    "# directly access the attr name otherwise a recursive loop is created\n",
    "def __getattribute__(self, name):\n",
    "    if (name == 'price'):\n",
    "        p = super().__getattribute__('price')\n",
    "        d = super().__getattribute__('_discount')\n",
    "        return p - (p * d)\n",
    "    return super().__getattribute__(name)"
   ]
  },
  {
   "cell_type": "code",
   "execution_count": 9,
   "id": "322e6e51-883c-4ab1-ad71-7165cae1972a",
   "metadata": {},
   "outputs": [],
   "source": [
    "# __setattr__ called when an attribute value is set. Don't set the attr\n",
    "# directly here otherwise a recursive loop causes a crash\n",
    "def __setattr__(self, name, value):\n",
    "    if (name == 'price'):\n",
    "        if type(value) is not float:\n",
    "            raise ValueError(\"The 'price' attribute must be a float\")\n",
    "        return super().__setattr__(name, value)"
   ]
  },
  {
   "cell_type": "code",
   "execution_count": 10,
   "id": "61955e43-5362-4ad1-9aaa-5da10c4c3a6c",
   "metadata": {},
   "outputs": [],
   "source": [
    "# __getattr__ called when __getattribute__ lookup fails - you can\n",
    "# pretty much generate attributes on the fly with this method\n",
    "def __getattr__(self, name):\n",
    "    return name + \"is not here\""
   ]
  },
  {
   "cell_type": "code",
   "execution_count": 11,
   "id": "d41e1029-3308-41ec-9c93-1438d68b1514",
   "metadata": {},
   "outputs": [
    {
     "name": "stdout",
     "output_type": "stream",
     "text": [
      "<__main__.Book object at 0x000002A1224FCE60>\n",
      "<__main__.Book object at 0x000002A1224FEBD0>\n",
      "Unexpected exception formatting exception. Falling back to standard exception\n"
     ]
    },
    {
     "name": "stderr",
     "output_type": "stream",
     "text": [
      "Traceback (most recent call last):\n",
      "  File \"C:\\Users\\new\\AppData\\Roaming\\Python\\Python312\\site-packages\\IPython\\core\\interactiveshell.py\", line 3526, in run_code\n",
      "    exec(code_obj, self.user_global_ns, self.user_ns)\n",
      "  File \"C:\\Users\\new\\AppData\\Local\\Temp\\ipykernel_12060\\3252612255.py\", line 12, in <module>\n",
      "    print(b1.randomprop)\n",
      "          ^^^^^^^^^^^^^\n",
      "AttributeError: 'Book' object has no attribute 'randomprop'\n",
      "\n",
      "During handling of the above exception, another exception occurred:\n",
      "\n",
      "Traceback (most recent call last):\n",
      "  File \"C:\\Users\\new\\AppData\\Roaming\\Python\\Python312\\site-packages\\IPython\\core\\interactiveshell.py\", line 2120, in showtraceback\n",
      "    stb = self.InteractiveTB.structured_traceback(\n",
      "          ^^^^^^^^^^^^^^^^^^^^^^^^^^^^^^^^^^^^^^^^\n",
      "  File \"C:\\Users\\new\\AppData\\Roaming\\Python\\Python312\\site-packages\\IPython\\core\\ultratb.py\", line 1435, in structured_traceback\n",
      "    return FormattedTB.structured_traceback(\n",
      "           ^^^^^^^^^^^^^^^^^^^^^^^^^^^^^^^^^\n",
      "  File \"C:\\Users\\new\\AppData\\Roaming\\Python\\Python312\\site-packages\\IPython\\core\\ultratb.py\", line 1326, in structured_traceback\n",
      "    return VerboseTB.structured_traceback(\n",
      "           ^^^^^^^^^^^^^^^^^^^^^^^^^^^^^^^\n",
      "  File \"C:\\Users\\new\\AppData\\Roaming\\Python\\Python312\\site-packages\\IPython\\core\\ultratb.py\", line 1173, in structured_traceback\n",
      "    formatted_exception = self.format_exception_as_a_whole(etype, evalue, etb, number_of_lines_of_context,\n",
      "                          ^^^^^^^^^^^^^^^^^^^^^^^^^^^^^^^^^^^^^^^^^^^^^^^^^^^^^^^^^^^^^^^^^^^^^^^^^^^^^^^^\n",
      "  File \"C:\\Users\\new\\AppData\\Roaming\\Python\\Python312\\site-packages\\IPython\\core\\ultratb.py\", line 1063, in format_exception_as_a_whole\n",
      "    self.get_records(etb, number_of_lines_of_context, tb_offset) if etb else []\n",
      "    ^^^^^^^^^^^^^^^^^^^^^^^^^^^^^^^^^^^^^^^^^^^^^^^^^^^^^^^^^^^^\n",
      "  File \"C:\\Users\\new\\AppData\\Roaming\\Python\\Python312\\site-packages\\IPython\\core\\ultratb.py\", line 1131, in get_records\n",
      "    mod = inspect.getmodule(cf.tb_frame)\n",
      "          ^^^^^^^^^^^^^^^^^^^^^^^^^^^^^^\n",
      "  File \"C:\\Program Files\\Python312\\Lib\\inspect.py\", line 1004, in getmodule\n",
      "    if ismodule(module) and hasattr(module, '__file__'):\n",
      "                            ^^^^^^^^^^^^^^^^^^^^^^^^^^^\n",
      "TypeError: __getattr__() missing 1 required positional argument: 'name'\n"
     ]
    }
   ],
   "source": [
    "b1 = Book(\"War and Peace\", \"Leo Tolstoy\", 39.95)\n",
    "b2 = Book(\"The Catcher in the Rye\", \"JD Sallinger\", 29.95)\n",
    "\n",
    "#Try setting and accessing the price\n",
    "b1.price = 38.95\n",
    "print(b1)\n",
    "\n",
    "b2.price = float(40)\n",
    "print(b2)\n",
    "\n",
    "#if an attribute doesn't exist, __getattr__ will be called\n",
    "print(b1.randomprop)"
   ]
  },
  {
   "cell_type": "code",
   "execution_count": null,
   "id": "8c5c4e12-8d4e-4515-ae27-906eeec6beb7",
   "metadata": {},
   "outputs": [],
   "source": []
  }
 ],
 "metadata": {
  "kernelspec": {
   "display_name": "Python 3 (ipykernel)",
   "language": "python",
   "name": "python3"
  },
  "language_info": {
   "codemirror_mode": {
    "name": "ipython",
    "version": 3
   },
   "file_extension": ".py",
   "mimetype": "text/x-python",
   "name": "python",
   "nbconvert_exporter": "python",
   "pygments_lexer": "ipython3",
   "version": "3.12.0"
  }
 },
 "nbformat": 4,
 "nbformat_minor": 5
}
